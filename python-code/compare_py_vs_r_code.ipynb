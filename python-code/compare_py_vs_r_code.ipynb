{
 "cells": [
  {
   "cell_type": "code",
   "execution_count": 1,
   "metadata": {},
   "outputs": [],
   "source": [
    "%load_ext rpy2.ipython\n"
   ]
  },
  {
   "attachments": {},
   "cell_type": "markdown",
   "metadata": {},
   "source": [
    "# Check Wilson interval\n"
   ]
  },
  {
   "cell_type": "code",
   "execution_count": 2,
   "metadata": {},
   "outputs": [
    {
     "name": "stdout",
     "output_type": "stream",
     "text": [
      "[0.0005129329438755058, 0.9974806313947331]\n",
      "[0.0, 0.03699349820698568]\n",
      "[0.9630065017930143, 1.0]\n",
      "[0.015516486400631463, 0.9844835135993687]\n",
      "[0.03419670540131324, 0.9658032945986867]\n"
     ]
    }
   ],
   "source": [
    "from utils import *\n",
    "\n",
    "print(get_ci_wilson(n_errors=1, n_instances=100, mean_variance=1, alpha=0.05))\n",
    "print(get_ci_wilson(n_errors=0, n_instances=100, mean_variance=1, alpha=0.05))\n",
    "print(get_ci_wilson(n_errors=100, n_instances=100, mean_variance=1, alpha=0.05))\n",
    "print(get_ci_wilson(n_errors=50, n_instances=100, mean_variance=1, alpha=0.05))\n",
    "print(get_ci_wilson(n_errors=50, n_instances=100, mean_variance=1, alpha=0.2))\n"
   ]
  },
  {
   "cell_type": "code",
   "execution_count": 3,
   "metadata": {},
   "outputs": [
    {
     "name": "stderr",
     "output_type": "stream",
     "text": [
      "R[write to console]: here() starts at /local/home/fogliato/cis-matching-tasks\n",
      "\n"
     ]
    },
    {
     "name": "stdout",
     "output_type": "stream",
     "text": [
      "[1] 0.0005129329 0.9974806314\n",
      "[1] 0.0000000 0.0369935\n",
      "[1] 0.9630065 1.0000000\n",
      "[1] 0.01551649 0.98448351\n",
      "[1] 0.03419671 0.96580329\n"
     ]
    }
   ],
   "source": [
    "%%R\n",
    "library(here)\n",
    "source(here('R-code/utils.R'))\n",
    "print(get_wilson(G=c(1, rep(0, 99)), alpha=0.05,\n",
    "      sample_size=100, var_sa=1))\n",
    "print(get_wilson(G=rep(0, 100), alpha=0.05, sample_size=100, var_sa=1))\n",
    "print(get_wilson(G=rep(1, 100), alpha=0.05, sample_size=100, var_sa=1))\n",
    "print(get_wilson(G=c(rep(1, 50), rep(0, 50)),\n",
    "      alpha=0.05, sample_size=100, var_sa=1))\n",
    "print(get_wilson(G=c(rep(1, 50), rep(0, 50)),\n",
    "      alpha=0.2, sample_size=100, var_sa=1))\n"
   ]
  },
  {
   "attachments": {},
   "cell_type": "markdown",
   "metadata": {},
   "source": [
    "# Check whether R and python code to compute intervals on generated data\n"
   ]
  },
  {
   "cell_type": "code",
   "execution_count": 4,
   "metadata": {},
   "outputs": [
    {
     "name": "stderr",
     "output_type": "stream",
     "text": [
      "R[write to console]: \n",
      "Attaching package: ‘dplyr’\n",
      "\n",
      "\n",
      "R[write to console]: The following objects are masked from ‘package:stats’:\n",
      "\n",
      "    filter, lag\n",
      "\n",
      "\n",
      "R[write to console]: The following objects are masked from ‘package:base’:\n",
      "\n",
      "    intersect, setdiff, setequal, union\n",
      "\n",
      "\n"
     ]
    }
   ],
   "source": [
    "%%R\n",
    "library(dplyr)\n",
    "library(purrr)\n",
    "library(readr)\n",
    "\n",
    "\n",
    "G <- gen_data_emb(n_ids=50, m=5, d=128, distribution_id=\"exponential\",\n",
    "                   sigma2within=5, sigma2between=NA, m_fixed=TRUE)\n",
    "\n",
    "G$emb %>%\n",
    "data.frame() %>%\n",
    "mutate(id=G$gt) %>%\n",
    "group_by(id) %>%\n",
    "mutate(image=1: n()) %>%\n",
    "ungroup() %>%\n",
    "write_csv(\"/home/fogliato/cis-matching-tasks/results/temp/r-py-exp/emb.csv\")\n",
    "\n",
    "thresholds <- 1.2\n",
    "mat_acc <- thresholds %>% map(~ get_genuine_and_impostor_mat(G, .x))\n",
    "out <- mat_acc %>%\n",
    "map(~ compute_matrix_at_id_level(.x$genuine_mat_acc, .x$impostor_mat_acc, m=G$m))\n",
    "\n",
    "current_fnmr = mat_acc %>%\n",
    "map(~ mean(.x$genuine_mat_acc, na.rm=TRUE)) %>%\n",
    "unlist()\n",
    "current_fmr = mat_acc %>%\n",
    "map(~ mean(.x$impostor_mat_acc, na.rm=TRUE)) %>%\n",
    "unlist()\n"
   ]
  },
  {
   "attachments": {},
   "cell_type": "markdown",
   "metadata": {},
   "source": [
    "## Check Wilson\n"
   ]
  },
  {
   "cell_type": "code",
   "execution_count": 5,
   "metadata": {},
   "outputs": [
    {
     "name": "stdout",
     "output_type": "stream",
     "text": [
      "[1] 0.04782364 0.07531378\n",
      "[1] 0.4039680 0.5569698\n"
     ]
    }
   ],
   "source": [
    "%%R\n",
    "i = 1\n",
    "impostor_mat_acc = mat_acc[[i]]$impostor_mat_acc\n",
    "genuine_mat_acc = mat_acc[[i]]$genuine_mat_acc\n",
    "fmr_mat = out[[i]]$fmr_mat\n",
    "fnmr_mat = out[[i]]$fnmr_mat\n",
    "m_mat = out[[i]]$m_mat\n",
    "sample_analogue_var <- get_sample_analogue_var(genuine_mat_acc=genuine_mat_acc, impostor_mat_acc=impostor_mat_acc, fnmr_mat=fnmr_mat, fmr_mat=fmr_mat, m=G$m, m_mat=m_mat)\n",
    "# print(sample_analogue_var)\n",
    "\n",
    "get_wilson(G=impostor_mat_acc, alpha=0.05, sample_size=length(G$m), var_sa=sample_analogue_var$var_fmr) %>% print()\n",
    "\n",
    "get_wilson(G=genuine_mat_acc, alpha=0.05, sample_size=length(G$m), var_sa=sample_analogue_var$var_fnmr) %>% print()\n"
   ]
  },
  {
   "cell_type": "code",
   "execution_count": 6,
   "metadata": {},
   "outputs": [
    {
     "name": "stdout",
     "output_type": "stream",
     "text": [
      "[0.047823639564186345, 0.07531377933354634]\n",
      "[0.40396800754006296, 0.5569698402667973]\n"
     ]
    }
   ],
   "source": [
    "import pandas as pd\n",
    "emb = pd.read_csv(\n",
    "    '/home/fogliato/cis-matching-tasks/results/temp/r-py-exp/emb.csv')\n",
    "df = {}\n",
    "for index, row in emb.iterrows():\n",
    "    id = int(row['id'])\n",
    "    if id not in df:\n",
    "        df[id] = {}\n",
    "    df[id][int(row['image'])] = row[['X' + str(x)\n",
    "                                     for x in range(1, 129)]].values\n",
    "\n",
    "df_sim = generate_similarity_scores(df, method = \"l2\")\n",
    "def multiply_dict_by_1_over(nested_dict):\n",
    "    new_dict = {}\n",
    "    for key, value in nested_dict.items():\n",
    "        if isinstance(value, list):\n",
    "            new_dict[key] = [- 1 / x for x in value]\n",
    "        elif isinstance(value, dict):\n",
    "            new_dict[key] = multiply_dict_by_1_over(value)\n",
    "        else:\n",
    "            new_dict[key] = value\n",
    "    return new_dict\n",
    "\n",
    "\n",
    "df_dist = multiply_dict_by_1_over(df_sim)\n",
    "\n",
    "\n",
    "threshold = - 1.2\n",
    "df_error = generate_errors(df=df_dist, threshold=threshold)\n",
    "fnmr, fmr = compute_error_metrics(df_error)\n",
    "# print(get_ci_dbn_boot(df = df_error, alpha = 0.1, B = 10000))\n",
    "# print(estimate_var_error_metrics(df_error))\n",
    "fnmr_var, fmr_var = estimate_var_error_metrics(df_error)\n",
    "# print(fnmr_var, fmr_var)\n",
    "tn = sum([sum([len(df_error[id1][id2]) for id2 in df_error if id1 != id2])\n",
    "         for id1 in df_error])\n",
    "print(get_ci_wilson(n_errors=fmr * tn, n_instances=tn,\n",
    "      mean_variance=fmr_var, alpha=0.05))\n",
    "tp = sum([len(df_error[id][id]) for id in df_error.keys()])\n",
    "print(get_ci_wilson(n_errors=fnmr * tp, n_instances=tp,\n",
    "      mean_variance=fnmr_var, alpha=0.05))\n"
   ]
  },
  {
   "attachments": {},
   "cell_type": "markdown",
   "metadata": {},
   "source": [
    "## Check double-or-nothing bootstrap\n"
   ]
  },
  {
   "cell_type": "code",
   "execution_count": 7,
   "metadata": {},
   "outputs": [
    {
     "name": "stdout",
     "output_type": "stream",
     "text": [
      "       5%       95% \n",
      "0.4184259 0.5500000 \n",
      "        5%        95% \n",
      "0.04757427 0.07326798 \n"
     ]
    }
   ],
   "source": [
    "%%R\n",
    "n_boot = 1e3\n",
    "out_db = 1:n_boot %>%\n",
    "map_dfr(~ get_bootstrap_db(fmr_mat=out %>%  map(~ .x$fmr_mat), fnmr_mat=out %>% map(~ .x$fnmr_mat), m_mat=out %>%  map(~ .x$m_mat)) %>%  mutate(threshold=thresholds))\n",
    "print(quantile(out_db$fnmr, probs=c(0.05, 0.95), na.rm=TRUE))\n",
    "print(quantile(out_db$fmr, probs=c(0.05, 0.95), na.rm=TRUE))\n"
   ]
  },
  {
   "cell_type": "code",
   "execution_count": 8,
   "metadata": {},
   "outputs": [
    {
     "name": "stdout",
     "output_type": "stream",
     "text": [
      "([0.419004329004329, 0.55], [0.04723192170148692, 0.07352564935064934])\n"
     ]
    }
   ],
   "source": [
    "print(get_ci_boot(df=df_error, alpha=0.1, B=1000, method = 'dbn', parallel = True))\n"
   ]
  },
  {
   "attachments": {},
   "cell_type": "markdown",
   "metadata": {},
   "source": [
    "## Check vertex bootstrap\n"
   ]
  },
  {
   "cell_type": "code",
   "execution_count": 9,
   "metadata": {},
   "outputs": [
    {
     "name": "stdout",
     "output_type": "stream",
     "text": [
      "   5%   95% \n",
      "0.410 0.544 \n",
      "        5%        95% \n",
      "0.04861668 0.07265320 \n"
     ]
    }
   ],
   "source": [
    "%%R\n",
    "out_vertex = 1:n_boot %>%\n",
    "    map_dfr(~ get_bootstrap_vertex(fmr_mat=out %>%  map(~ .x$fmr_mat), fnmr_mat=out %>%  map(~ .x$fnmr_mat), m_mat=out %>%  map(~ .x$m_mat)) %>%  mutate(threshold=thresholds))\n",
    "print(quantile(out_vertex$fnmr, probs=c(0.05, 0.95), na.rm=TRUE))\n",
    "print(quantile(out_vertex$fmr, probs=c(0.05, 0.95), na.rm=TRUE))\n"
   ]
  },
  {
   "cell_type": "code",
   "execution_count": 10,
   "metadata": {},
   "outputs": [
    {
     "name": "stdout",
     "output_type": "stream",
     "text": [
      "([0.416, 0.544], [0.049008601386089624, 0.07237689296060597])\n"
     ]
    }
   ],
   "source": [
    "print(get_ci_boot(df = df_error, alpha = 0.1, B = 1000, method = 'vertex', parallel = True))\n"
   ]
  },
  {
   "attachments": {},
   "cell_type": "markdown",
   "metadata": {},
   "source": [
    "## Check pointwise ROC intervals\n"
   ]
  },
  {
   "cell_type": "code",
   "execution_count": 11,
   "metadata": {},
   "outputs": [],
   "source": [
    "%%R\n",
    "source(here('R-code/utils.R'))\n",
    "source(here('R-code/utils_roc.R'))\n",
    "out = get_ci_for_fixed_fmr(G, length(G$m), m=G$m, alpha=0.05, target_fmr=c(0, 0.01, 0.1, 0.5, 1), alpha_fmr=0.05)\n"
   ]
  },
  {
   "cell_type": "code",
   "execution_count": 12,
   "metadata": {},
   "outputs": [
    {
     "name": "stdout",
     "output_type": "stream",
     "text": [
      "# A tibble: 5 × 3\n",
      "  target_fmr  lb_fnmr ub_fnmr\n",
      "       <dbl>    <dbl>   <dbl>\n",
      "1       0    9.45e- 1 0.987  \n",
      "2       0.01 6.12e- 1 0.810  \n",
      "3       0.1  2.90e- 1 0.489  \n",
      "4       0.5  5.20e- 2 0.144  \n",
      "5       1    4.30e-19 0.00762\n"
     ]
    }
   ],
   "source": [
    "%%R\n",
    "out %>%  filter(type == 'wilson') %>%  select(target_fmr, lb_fnmr, ub_fnmr)\n"
   ]
  },
  {
   "cell_type": "code",
   "execution_count": 13,
   "metadata": {},
   "outputs": [
    {
     "name": "stdout",
     "output_type": "stream",
     "text": [
      "0 0.976 [0.9447478435026352, 0.9871966319061259]\n",
      "0.01 0.724 [0.6115980271921961, 0.8100070701947348]\n",
      "0.1 0.392 [0.2899347981488063, 0.4888522817300892]\n",
      "0.5 0.08999999999999997 [0.05202600839833793, 0.1440606039743456]\n",
      "1 0.0 [0.0, 0.007624340461552248]\n"
     ]
    }
   ],
   "source": [
    "target_fpr = [0, 0.01, 0.1, 0.5, 1]\n",
    "ci_roc_wilson = get_ci_roc_wilson(df=df_sim, alpha=0.05, target_fpr=target_fpr, alpha_fpr=0.05)\n",
    "for fpr in target_fpr:\n",
    "    print(fpr, 1 - ci_roc_wilson['tpr'][ci_roc_wilson['fpr'].index(\n",
    "        fpr)], [1 - x for x in ci_roc_wilson['tpr_cis'][ci_roc_wilson['fpr'].index(fpr)]][::-1])\n"
   ]
  },
  {
   "cell_type": "code",
   "execution_count": 14,
   "metadata": {},
   "outputs": [
    {
     "name": "stdout",
     "output_type": "stream",
     "text": [
      "# A tibble: 5 × 3\n",
      "  target_fmr lb_fnmr ub_fnmr\n",
      "       <dbl>   <dbl>   <dbl>\n",
      "1       0     0.924    0.988\n",
      "2       0.01  0.652    0.783\n",
      "3       0.1   0.323    0.452\n",
      "4       0.5   0.0577   0.123\n",
      "5       1     0        0    \n"
     ]
    }
   ],
   "source": [
    "%%R\n",
    "out %>%  filter(type == 'db') %>%  select(target_fmr, lb_fnmr, ub_fnmr)\n"
   ]
  },
  {
   "cell_type": "code",
   "execution_count": 15,
   "metadata": {},
   "outputs": [
    {
     "name": "stdout",
     "output_type": "stream",
     "text": [
      "0 1.0 [0.9190062111801243, 0.9894736842105263]\n",
      "0.01 0.724 [0.6479956521739131, 0.7851984126984127]\n",
      "0.1 0.392 [0.32105263157894737, 0.44232142857142853]\n",
      "0.5 0.08999999999999997 [0.05515673981191227, 0.12083333333333335]\n",
      "1 0.0 [0.0, 0.007624340461552137]\n"
     ]
    }
   ],
   "source": [
    "target_fpr = [\n",
    "    0, 0.01, 0.1, 0.5, 1]\n",
    "ci_roc_dbn = get_ci_roc_boot(df=df_sim, alpha=0.05, B=1000, method = \"dbn\", target_fpr=target_fpr, parallel=True)\n",
    "\n",
    "for fpr in target_fpr:\n",
    "    print(fpr, 1 - ci_roc_dbn['tpr'][ci_roc_dbn['fpr'].index(\n",
    "    fpr)], [1 - x for x in ci_roc_dbn['tpr_cis'][ci_roc_dbn['fpr'].index(fpr)]][::-1])\n"
   ]
  }
 ],
 "metadata": {
  "kernelspec": {
   "display_name": "cis-matching-tasks",
   "language": "python",
   "name": "python3"
  },
  "language_info": {
   "codemirror_mode": {
    "name": "ipython",
    "version": 3
   },
   "file_extension": ".py",
   "mimetype": "text/x-python",
   "name": "python",
   "nbconvert_exporter": "python",
   "pygments_lexer": "ipython3",
   "version": "3.10.6"
  },
  "orig_nbformat": 4
 },
 "nbformat": 4,
 "nbformat_minor": 2
}
